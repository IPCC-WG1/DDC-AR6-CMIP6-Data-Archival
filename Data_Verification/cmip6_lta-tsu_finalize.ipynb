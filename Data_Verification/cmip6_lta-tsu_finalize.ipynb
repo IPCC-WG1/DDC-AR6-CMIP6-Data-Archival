{
 "cells": [
  {
   "cell_type": "code",
   "execution_count": 79,
   "id": "b460f831-9bb2-4b7a-b8e6-b541c7267819",
   "metadata": {},
   "outputs": [],
   "source": [
    "import json\n",
    "import os\n",
    "with open(\"cmip6_list_2022-07-11.json\") as f1:\n",
    "    tsul=json.load(f1)\n",
    "with open(\"cmip6_list_data_ref_syntax_drs-candidates-by-version_2022-08-17.json\") as f2:\n",
    "    updl=json.load(f2)"
   ]
  },
  {
   "cell_type": "code",
   "execution_count": 80,
   "id": "319b7afe-e74d-407b-a12d-572eed817c13",
   "metadata": {},
   "outputs": [
    {
     "data": {
      "text/plain": [
       "18909"
      ]
     },
     "execution_count": 80,
     "metadata": {},
     "output_type": "execute_result"
    }
   ],
   "source": [
    "len(tsul[0])"
   ]
  },
  {
   "cell_type": "code",
   "execution_count": 81,
   "id": "d20183e3-8d9a-4731-ae0e-de8b632ac26f",
   "metadata": {},
   "outputs": [],
   "source": [
    "li=1\n",
    "lk=1\n",
    "for k in updl.keys():\n",
    "    vers=updl[k]\n",
    "    versk=vers.split(',')  \n",
    "    ejson=next((x for x in tsul[0] if x['data_ref_syntax'] == 'CMIP6.'+k), None)\n",
    "    if ejson!=None:\n",
    "        li=1;\n",
    "        for v in versk:\n",
    "            if li==1:  \n",
    "                ejson['data_ref_syntax']='CMIP6.'+v\n",
    "                #print(li,k,',',ejson['data_ref_syntax'])\n",
    "            else:\n",
    "                ejson2=ejson.copy()\n",
    "                ejson2['data_ref_syntax']='CMIP6.'+v\n",
    "                #print(li,ejson2)\n",
    "                tsul[0].append(ejson2)\n",
    "            li=li+1"
   ]
  },
  {
   "cell_type": "code",
   "execution_count": 82,
   "id": "e085b3ae-b384-40d4-8bc1-b6bf8f145663",
   "metadata": {},
   "outputs": [
    {
     "data": {
      "text/plain": [
       "18956"
      ]
     },
     "execution_count": 82,
     "metadata": {},
     "output_type": "execute_result"
    }
   ],
   "source": [
    "len(tsul[0])"
   ]
  },
  {
   "cell_type": "code",
   "execution_count": 83,
   "id": "0d4db9d0-96cb-48db-8429-e623fe95b357",
   "metadata": {},
   "outputs": [],
   "source": [
    "with open(\"cmip6_list_2022-08-17.json\", 'w') as f:\n",
    "    json.dump(tsul,f,indent=4, sort_keys=False)"
   ]
  }
 ],
 "metadata": {
  "kernelspec": {
   "display_name": "pyhandleenv",
   "language": "python",
   "name": "pyhandleenv"
  },
  "language_info": {
   "codemirror_mode": {
    "name": "ipython",
    "version": 3
   },
   "file_extension": ".py",
   "mimetype": "text/x-python",
   "name": "python",
   "nbconvert_exporter": "python",
   "pygments_lexer": "ipython3",
   "version": "3.7.12"
  }
 },
 "nbformat": 4,
 "nbformat_minor": 5
}
